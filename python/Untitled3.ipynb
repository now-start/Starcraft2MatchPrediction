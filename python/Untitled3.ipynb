{
 "cells": [
  {
   "cell_type": "code",
   "execution_count": 2,
   "metadata": {},
   "outputs": [
    {
     "name": "stdout",
     "output_type": "stream",
     "text": [
      "Requirement already satisfied: catboost in c:\\users\\user\\anaconda3\\lib\\site-packages (0.24.3)\n",
      "Requirement already satisfied: pandas>=0.24.0 in c:\\users\\user\\anaconda3\\lib\\site-packages (from catboost) (1.0.5)\n",
      "Requirement already satisfied: numpy>=1.16.0 in c:\\users\\user\\anaconda3\\lib\\site-packages (from catboost) (1.18.5)\n",
      "Requirement already satisfied: six in c:\\users\\user\\appdata\\roaming\\python\\python38\\site-packages (from catboost) (1.15.0)\n",
      "Requirement already satisfied: plotly in c:\\users\\user\\anaconda3\\lib\\site-packages (from catboost) (4.12.0)\n",
      "Requirement already satisfied: matplotlib in c:\\users\\user\\anaconda3\\lib\\site-packages (from catboost) (3.2.2)\n",
      "Requirement already satisfied: graphviz in c:\\users\\user\\anaconda3\\lib\\site-packages (from catboost) (0.15)\n",
      "Requirement already satisfied: scipy in c:\\users\\user\\anaconda3\\lib\\site-packages (from catboost) (1.5.0)\n",
      "Requirement already satisfied: pytz>=2017.2 in c:\\users\\user\\anaconda3\\lib\\site-packages (from pandas>=0.24.0->catboost) (2020.1)\n",
      "Requirement already satisfied: python-dateutil>=2.6.1 in c:\\users\\user\\anaconda3\\lib\\site-packages (from pandas>=0.24.0->catboost) (2.8.1)\n",
      "Requirement already satisfied: retrying>=1.3.3 in c:\\users\\user\\anaconda3\\lib\\site-packages (from plotly->catboost) (1.3.3)\n",
      "Requirement already satisfied: kiwisolver>=1.0.1 in c:\\users\\user\\anaconda3\\lib\\site-packages (from matplotlib->catboost) (1.2.0)\n",
      "Requirement already satisfied: pyparsing!=2.0.4,!=2.1.2,!=2.1.6,>=2.0.1 in c:\\users\\user\\anaconda3\\lib\\site-packages (from matplotlib->catboost) (2.4.7)\n",
      "Requirement already satisfied: cycler>=0.10 in c:\\users\\user\\anaconda3\\lib\\site-packages (from matplotlib->catboost) (0.10.0)\n",
      "Requirement already satisfied: bayesian-optimization in c:\\users\\user\\anaconda3\\lib\\site-packages (1.2.0)\n",
      "Requirement already satisfied: scikit-learn>=0.18.0 in c:\\users\\user\\anaconda3\\lib\\site-packages (from bayesian-optimization) (0.23.1)\n",
      "Requirement already satisfied: scipy>=0.14.0 in c:\\users\\user\\anaconda3\\lib\\site-packages (from bayesian-optimization) (1.5.0)\n",
      "Requirement already satisfied: numpy>=1.9.0 in c:\\users\\user\\anaconda3\\lib\\site-packages (from bayesian-optimization) (1.18.5)\n",
      "Requirement already satisfied: joblib>=0.11 in c:\\users\\user\\anaconda3\\lib\\site-packages (from scikit-learn>=0.18.0->bayesian-optimization) (0.16.0)\n",
      "Requirement already satisfied: threadpoolctl>=2.0.0 in c:\\users\\user\\anaconda3\\lib\\site-packages (from scikit-learn>=0.18.0->bayesian-optimization) (2.1.0)\n"
     ]
    }
   ],
   "source": [
    "import pandas as pd\n",
    "import numpy as np\n",
    "import time\n",
    "import re \n",
    "import warnings         \n",
    "warnings.filterwarnings('ignore')\n",
    "\n",
    "import matplotlib.pyplot as plt\n",
    "import seaborn as sns\n",
    "from tqdm import tqdm\n",
    "\n",
    "!pip install catboost\n",
    "from catboost import CatBoostClassifier, Pool\n",
    "import lightgbm as lgb                          \n",
    "from sklearn.model_selection import KFold          \n",
    "!pip install bayesian-optimization\n",
    "from bayes_opt import BayesianOptimization        \n",
    "from functools import partial              \n",
    "import lightgbm as lgbm\n",
    "import catboost\n",
    "from catboost import CatBoostClassifier\n",
    "from ast import literal_eval\n",
    "\n",
    "import sklearn\n",
    "from sklearn.cluster import KMeans\n",
    "from sklearn.metrics import mean_absolute_error, mean_squared_error, roc_auc_score\n",
    "from sklearn.model_selection import KFold, TimeSeriesSplit, StratifiedKFold, GroupKFold, train_test_split\n",
    "from sklearn import metrics      \n",
    "\n",
    "from keras.models import Sequential\n",
    "from keras.layers import LSTM, Dropout, Dense, Activation\n",
    "from keras import optimizers\n",
    "from keras.models import load_model\n",
    "\n",
    "import itertools\n",
    "\n",
    "import datetime\n",
    "import time\n",
    "from tqdm import tqdm\n",
    "\n",
    "import gc\n",
    "\n",
    "import matplotlib.pyplot as plt\n",
    "from tqdm import tqdm\n",
    "import pandas as pd\n",
    "import numpy as np\n",
    "import matplotlib.pyplot as plt\n",
    "from keras.models import Sequential\n",
    "from keras.layers import LSTM, Dropout, Dense, Activation\n",
    "from keras.models import load_model\n",
    "import datetime\n",
    "from scipy.io import wavfile\n",
    "from sklearn.preprocessing import StandardScaler\n",
    "from sklearn.model_selection import train_test_split\n",
    "from pydub import AudioSegment\n",
    "from scipy.signal import resample"
   ]
  },
  {
   "cell_type": "code",
   "execution_count": 3,
   "metadata": {},
   "outputs": [],
   "source": [
    "result_train = pd.read_csv('./data/train/result_train.csv')\n",
    "result_test = pd.read_csv('./data/train/result_test.csv')"
   ]
  },
  {
   "cell_type": "code",
   "execution_count": 4,
   "metadata": {},
   "outputs": [],
   "source": [
    "result_train = result_train[sorted(result_train.columns)]\n",
    "result_test = result_test[sorted(result_test.columns)]"
   ]
  },
  {
   "cell_type": "code",
   "execution_count": 5,
   "metadata": {},
   "outputs": [],
   "source": [
    "y_data = result_train.loc[:,\"winner\"]\n",
    "y_data = y_data.T.squeeze()"
   ]
  },
  {
   "cell_type": "code",
   "execution_count": 6,
   "metadata": {},
   "outputs": [
    {
     "name": "stdout",
     "output_type": "stream",
     "text": [
      "useless : player0_Broodling\n",
      "useless : player0_changeling\n",
      "useless : player1_Broodling\n",
      "useless : player1_changeling\n"
     ]
    }
   ],
   "source": [
    "#모두 0값인 컬럼 제거\n",
    "useless = []\n",
    "for c in result_train.columns:\n",
    "    try:\n",
    "        if result_train[c].nunique()<2:\n",
    "            useless.append(c)\n",
    "            print(\"useless :\", c)\n",
    "            result_train = result_train.drop(c, axis=1)\n",
    "    except:\n",
    "        print(\"exception:\", c)"
   ]
  },
  {
   "cell_type": "code",
   "execution_count": 7,
   "metadata": {},
   "outputs": [],
   "source": [
    "# result_train, result_test 있는 컬럼 삭제\n",
    "result_train.drop(set(result_train.columns) - set(result_test.columns), axis=1, inplace=True)\n",
    "result_test.drop(set(result_test.columns) - set(result_train.columns), axis=1, inplace=True)"
   ]
  },
  {
   "cell_type": "code",
   "execution_count": 8,
   "metadata": {},
   "outputs": [],
   "source": [
    "result_train = np.array(result_train)\n",
    "result_test = np.array(result_test)\n",
    "y_data = np.array(y_data)"
   ]
  },
  {
   "cell_type": "code",
   "execution_count": 9,
   "metadata": {},
   "outputs": [],
   "source": [
    "result_train = np.reshape(result_train, (result_train.shape[0], result_train.shape[1], 1))\n",
    "result_test = np.reshape(result_test, (result_test.shape[0], result_test.shape[1], 1))"
   ]
  },
  {
   "cell_type": "code",
   "execution_count": null,
   "metadata": {},
   "outputs": [
    {
     "name": "stdout",
     "output_type": "stream",
     "text": [
      "Model: \"sequential_3\"\n",
      "_________________________________________________________________\n",
      "Layer (type)                 Output Shape              Param #   \n",
      "=================================================================\n",
      "lstm_1 (LSTM)                (None, 512)               1052672   \n",
      "_________________________________________________________________\n",
      "dense_6 (Dense)              (None, 256)               131328    \n",
      "_________________________________________________________________\n",
      "dense_7 (Dense)              (None, 256)               65792     \n",
      "_________________________________________________________________\n",
      "dense_8 (Dense)              (None, 256)               65792     \n",
      "_________________________________________________________________\n",
      "dense_9 (Dense)              (None, 1)                 257       \n",
      "=================================================================\n",
      "Total params: 1,315,841\n",
      "Trainable params: 1,315,841\n",
      "Non-trainable params: 0\n",
      "_________________________________________________________________\n",
      "Epoch 1/10000\n",
      "972/972 [==============================] - 430s 442ms/step - loss: 0.9587 - accuracy: 0.4986 - val_loss: 0.6929 - val_accuracy: 0.5127\n",
      "Epoch 2/10000\n",
      "972/972 [==============================] - 414s 426ms/step - loss: 0.6932 - accuracy: 0.4995 - val_loss: 0.6932 - val_accuracy: 0.4993\n",
      "Epoch 3/10000\n",
      "972/972 [==============================] - 416s 428ms/step - loss: 0.6932 - accuracy: 0.4967 - val_loss: 0.6931 - val_accuracy: 0.5007\n",
      "Epoch 4/10000\n",
      "972/972 [==============================] - 405s 417ms/step - loss: 0.6932 - accuracy: 0.5001 - val_loss: 0.6931 - val_accuracy: 0.4993\n",
      "Epoch 5/10000\n",
      "972/972 [==============================] - 402s 413ms/step - loss: 0.6932 - accuracy: 0.5005 - val_loss: 0.6932 - val_accuracy: 0.5007\n",
      "Epoch 6/10000\n",
      "972/972 [==============================] - 402s 413ms/step - loss: 0.6932 - accuracy: 0.4965 - val_loss: 0.6931 - val_accuracy: 0.5007\n",
      "Epoch 7/10000\n",
      "972/972 [==============================] - 402s 413ms/step - loss: 0.6932 - accuracy: 0.5002 - val_loss: 0.6932 - val_accuracy: 0.4993\n",
      "Epoch 8/10000\n",
      "972/972 [==============================] - 402s 414ms/step - loss: 0.6932 - accuracy: 0.4928 - val_loss: 0.6932 - val_accuracy: 0.4993\n",
      "Epoch 9/10000\n",
      "972/972 [==============================] - 402s 414ms/step - loss: 0.6932 - accuracy: 0.4987 - val_loss: 0.6931 - val_accuracy: 0.5007\n",
      "Epoch 10/10000\n",
      "972/972 [==============================] - 402s 414ms/step - loss: 0.6932 - accuracy: 0.4943 - val_loss: 0.6931 - val_accuracy: 0.4993\n",
      "Epoch 11/10000\n",
      "972/972 [==============================] - 402s 414ms/step - loss: 0.6932 - accuracy: 0.4960 - val_loss: 0.6932 - val_accuracy: 0.4993\n",
      "Epoch 12/10000\n",
      "972/972 [==============================] - 402s 414ms/step - loss: 0.6932 - accuracy: 0.5017 - val_loss: 0.6931 - val_accuracy: 0.5007\n",
      "Epoch 13/10000\n",
      "972/972 [==============================] - 402s 414ms/step - loss: 0.6932 - accuracy: 0.4982 - val_loss: 0.6931 - val_accuracy: 0.4993\n",
      "Epoch 14/10000\n",
      "972/972 [==============================] - 402s 414ms/step - loss: 0.6932 - accuracy: 0.5032 - val_loss: 0.6932 - val_accuracy: 0.5007\n",
      "Epoch 15/10000\n",
      "972/972 [==============================] - 402s 413ms/step - loss: 0.6932 - accuracy: 0.4974 - val_loss: 0.6931 - val_accuracy: 0.5007\n",
      "Epoch 16/10000\n",
      "828/972 [========================>.....] - ETA: 54s - loss: 0.6932 - accuracy: 0.5005"
     ]
    }
   ],
   "source": [
    "# # 모델 생성\n",
    "model = Sequential()\n",
    "\n",
    "model.add(LSTM(512, input_shape=(result_train.shape[1],1)))\n",
    "model.add(Dense(256, activation='relu'))\n",
    "model.add(Dense(256, activation='relu'))\n",
    "model.add(Dense(256, activation='relu'))\n",
    "model.add(Dense(1, activation='sigmoid'))\n",
    "model.compile(loss='binary_crossentropy', optimizer='adam', metrics=['accuracy'])\n",
    "model.summary()\n",
    "\n",
    "hist = model.fit(result_train, y_data, validation_split=0.2 ,epochs=10000)"
   ]
  },
  {
   "cell_type": "code",
   "execution_count": null,
   "metadata": {},
   "outputs": [],
   "source": []
  }
 ],
 "metadata": {
  "kernelspec": {
   "display_name": "Python 3",
   "language": "python",
   "name": "python3"
  },
  "language_info": {
   "codemirror_mode": {
    "name": "ipython",
    "version": 3
   },
   "file_extension": ".py",
   "mimetype": "text/x-python",
   "name": "python",
   "nbconvert_exporter": "python",
   "pygments_lexer": "ipython3",
   "version": "3.8.3"
  }
 },
 "nbformat": 4,
 "nbformat_minor": 4
}
